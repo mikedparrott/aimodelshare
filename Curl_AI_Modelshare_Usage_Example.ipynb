{
  "nbformat": 4,
  "nbformat_minor": 0,
  "metadata": {
    "colab": {
      "name": "Curl AI Modelshare Usage Example.ipynb",
      "version": "0.3.2",
      "provenance": [],
      "collapsed_sections": [],
      "include_colab_link": true
    },
    "kernelspec": {
      "name": "python3",
      "display_name": "Python 3"
    }
  },
  "cells": [
    {
      "cell_type": "markdown",
      "metadata": {
        "id": "view-in-github",
        "colab_type": "text"
      },
      "source": [
        "<a href=\"https://colab.research.google.com/github/mikedparrott/aimodelshare/blob/master/Curl_AI_Modelshare_Usage_Example.ipynb\" target=\"_parent\"><img src=\"https://colab.research.google.com/assets/colab-badge.svg\" alt=\"Open In Colab\"/></a>"
      ]
    },
    {
      "cell_type": "markdown",
      "metadata": {
        "id": "yJ6-QnsX_KeO",
        "colab_type": "text"
      },
      "source": [
        "## CURL:\n",
        "*Generate predictions using Curl*\n",
        "\n",
        "\n",
        "---"
      ]
    },
    {
      "cell_type": "code",
      "metadata": {
        "id": "nbT8h1HX_JLa",
        "colab_type": "code",
        "colab": {}
      },
      "source": [
        "! curl -d '{\"Body\":\"insert text here\"}' -H \"Content-Type: application/json\" -X POST https://your_prediction_api_url_here\n"
      ],
      "execution_count": 0,
      "outputs": []
    }
  ]
}