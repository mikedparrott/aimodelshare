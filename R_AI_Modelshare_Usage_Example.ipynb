{
  "nbformat": 4,
  "nbformat_minor": 0,
  "metadata": {
    "colab": {
      "name": "R AI Modelshare Usage Example.ipynb",
      "version": "0.3.2",
      "provenance": [],
      "collapsed_sections": [],
      "include_colab_link": true
    },
    "language_info": {
      "codemirror_mode": "r",
      "file_extension": ".r",
      "mimetype": "text/x-r-source",
      "name": "R",
      "pygments_lexer": "r",
      "version": "3.3.1"
    },
    "kernelspec": {
      "display_name": "R",
      "language": "R",
      "name": "ir"
    }
  },
  "cells": [
    {
      "cell_type": "markdown",
      "metadata": {
        "id": "view-in-github",
        "colab_type": "text"
      },
      "source": [
        "<a href=\"https://colab.research.google.com/github/mikedparrott/aimodelshare/blob/master/R_AI_Modelshare_Usage_Example.ipynb\" target=\"_parent\"><img src=\"https://colab.research.google.com/assets/colab-badge.svg\" alt=\"Open In Colab\"/></a>"
      ]
    },
    {
      "cell_type": "markdown",
      "metadata": {
        "id": "eCWONbwwHVSU",
        "colab_type": "text"
      },
      "source": [
        "## R:\n",
        "*Generate predictions using R*"
      ]
    },
    {
      "cell_type": "code",
      "metadata": {
        "id": "Msxj9dbsHVSW",
        "colab_type": "code",
        "outputId": "9422f51d-4f81-4b52-fbdd-d607c5fd3393",
        "colab": {
          "base_uri": "https://localhost:8080/",
          "height": 34
        }
      },
      "source": [
        "library(httr)\n",
        "\n",
        "api_url = 'insert your prediction API url here'\n",
        "data <- list(Body = \"insert text here\")\n",
        "\n",
        "# JSON encoded\n",
        "r <- POST(api_url, body = data, encode = \"json\")\n",
        "\n",
        "content(r,\"parsed\")"
      ],
      "execution_count": 0,
      "outputs": [
        {
          "output_type": "display_data",
          "data": {
            "text/plain": [
              "[1] \"ham\""
            ],
            "text/latex": "'ham'",
            "text/markdown": "'ham'",
            "text/html": [
              "'ham'"
            ]
          },
          "metadata": {
            "tags": []
          }
        }
      ]
    }
  ]
}