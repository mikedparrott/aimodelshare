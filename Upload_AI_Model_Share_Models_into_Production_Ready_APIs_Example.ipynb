{
  "nbformat": 4,
  "nbformat_minor": 0,
  "metadata": {
    "colab": {
      "name": "Upload_AI_Model_Share_Models_into_Production_Ready_APIs_Example.ipynb",
      "version": "0.3.2",
      "provenance": [],
      "collapsed_sections": [],
      "include_colab_link": true
    },
    "kernelspec": {
      "name": "python3",
      "display_name": "Python 3"
    }
  },
  "cells": [
    {
      "cell_type": "markdown",
      "metadata": {
        "id": "view-in-github",
        "colab_type": "text"
      },
      "source": [
        "<a href=\"https://colab.research.google.com/github/mikedparrott/aimodelshare/blob/master/Upload_AI_Model_Share_Models_into_Production_Ready_APIs_Example.ipynb\" target=\"_parent\"><img src=\"https://colab.research.google.com/assets/colab-badge.svg\" alt=\"Open In Colab\"/></a>"
      ]
    },
    {
      "cell_type": "markdown",
      "metadata": {
        "id": "V61a-Cl_rrqd",
        "colab_type": "text"
      },
      "source": [
        "# Upload and share your model with the world in 30 seconds:\n",
        "#### 1. Save your model to a local file.\n",
        "#### 2. Refer to the model file in the model_to_api(\"your file path\") function (see below example)\n",
        "#### 3. After running the function, answer a few questions about your model.\n",
        "\n",
        "Then your model will be launched into the AI Model Share's searchable website and end-users will be able to generate predictions from your model via an in browser dashboard or by using curl, python, R, or other popular interfaces."
      ]
    },
    {
      "cell_type": "code",
      "metadata": {
        "id": "3i_Q_zumrrCu",
        "colab_type": "code",
        "colab": {}
      },
      "source": [
        "# Insert model_to_api() example code here..."
      ],
      "execution_count": 0,
      "outputs": []
    }
  ]
}